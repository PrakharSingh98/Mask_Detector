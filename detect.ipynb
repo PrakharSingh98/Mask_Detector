{
 "cells": [
  {
   "cell_type": "code",
   "execution_count": 7,
   "metadata": {},
   "outputs": [],
   "source": [
    "from tensorflow.keras.applications.mobilenet_v2 import preprocess_input\n",
    "from tensorflow.keras.preprocessing.image import img_to_array\n",
    "from tensorflow.keras.models import load_model\n",
    "import numpy as np\n",
    "import cv2\n",
    "import winsound"
   ]
  },
  {
   "cell_type": "code",
   "execution_count": 8,
   "metadata": {},
   "outputs": [],
   "source": [
    "# This will ignore the warnings that appear due to version mismatch\n",
    "import warnings\n",
    "warnings.filterwarnings('ignore')"
   ]
  },
  {
   "cell_type": "code",
   "execution_count": 9,
   "metadata": {},
   "outputs": [],
   "source": [
    "def detect_mask(frame,faceNet,maskNet):\n",
    "    h,w = frame.shape[:2]\n",
    "    # cv2.dnn.blobFromImage(image,scale,(size,size),(mean-R,mean-G,mean-B)) This mean will be substracted\n",
    "    blob = cv2.dnn.blobFromImage(frame, 1.0, (224,224), (104.0, 177.0, 123.0))\n",
    "    faces =[]\n",
    "    locs = []\n",
    "    preds = []\n",
    "    # Pass the image to obtain faces ie. ROI\n",
    "    faceNet.setInput(blob)\n",
    "    detections = faceNet.forward()\n",
    "    for i in range(0,detections.shape[2]):\n",
    "        conf = detections[0][0][i][2]\n",
    "        # Check if minimum confidence is met\n",
    "        if conf > 0.5:\n",
    "            # Compute x and y co-ordinates of the face\n",
    "            box = detections[0, 0, i, 3:7] * np.array([w, h, w, h])\n",
    "            (startX, startY, endX, endY) = box.astype('int')\n",
    "            # Extract ROI from the image\n",
    "            face = frame[startY:endY, startX:endX]\n",
    "            face = cv2.cvtColor(face, cv2.COLOR_BGR2RGB)\n",
    "            face = cv2.resize(face, (224, 224))\n",
    "            face = img_to_array(face)\n",
    "            face = preprocess_input(face)\n",
    "            faces.append(face)\n",
    "            locs.append((startX, startY, endX, endY))\n",
    "    if len(faces) > 0:\n",
    "        # For faster inference we'll make batch predictions on *all*\n",
    "        # faces at the same time rather than one-by-one predictions using for loop\n",
    "        faces = np.array(faces, dtype=\"float32\")\n",
    "        preds = maskNet.predict(faces, batch_size=32)\n",
    "\n",
    "    # Return a 2-tuple of the face locations and their corresponding prediction\n",
    "    return (locs, preds)"
   ]
  },
  {
   "cell_type": "code",
   "execution_count": 10,
   "metadata": {},
   "outputs": [
    {
     "name": "stdout",
     "output_type": "stream",
     "text": [
      "[INFO] Succesfully loaded both models\n"
     ]
    }
   ],
   "source": [
    "# load our caffe based face detector model from disk\n",
    "prototxtPath = r\"face_detector\\deploy.prototxt\" # This contains the architecture of model\n",
    "weightsPath = r\"face_detector\\res10_300x300_ssd_iter_140000.caffemodel\" # This contains actual weights\n",
    "faceNet = cv2.dnn.readNet(prototxtPath, weightsPath)\n",
    "\n",
    "# load the face mask detector model from disk\n",
    "maskNet = load_model(\"mask_detector.model\")\n",
    "print(\"[INFO] Succesfully loaded both models\")"
   ]
  },
  {
   "cell_type": "code",
   "execution_count": 11,
   "metadata": {},
   "outputs": [],
   "source": [
    "def beep():\n",
    "    frequency = 2500  # Set Frequency To 2500 Hertz\n",
    "    duration = 100  # Set Duration To 1000 ms == 1 second\n",
    "    winsound.Beep(frequency, duration)"
   ]
  },
  {
   "cell_type": "code",
   "execution_count": 12,
   "metadata": {},
   "outputs": [],
   "source": [
    "# Starting LIVE video\n",
    "cap = cv2.VideoCapture(0)\n",
    "while True:\n",
    "    _,frame = cap.read()\n",
    "    frame = cv2.resize(frame,(700,700))\n",
    "    (locs, preds) = detect_mask(frame, faceNet, maskNet)\n",
    "    # Looping over detected faces \n",
    "    for (loc,pred) in zip(locs,preds):\n",
    "        # Start unpacking the contents of location and predictions\n",
    "        (startX, startY, endX, endY) = loc\n",
    "        # Assigns the probability of each class to it's label\n",
    "        (mask, withoutMask) = pred\n",
    "        label = \"Mask\" if mask > withoutMask else \"No Mask\"\n",
    "        color = (0, 255, 0) if label == \"Mask\" else (0, 0, 255)\n",
    "        label = \"{}: {:.2f}%\".format(label, max(mask, withoutMask) * 100)\n",
    "        # Display the label and bounding box on the frame\n",
    "        cv2.putText(frame, label, (startX, startY - 10),\n",
    "            cv2.FONT_HERSHEY_SIMPLEX, 0.45, color, 2)\n",
    "        cv2.rectangle(frame, (startX, startY), (endX, endY), color, 2)\n",
    "    # show the output frame\n",
    "    cv2.imshow(\"Frame\", frame)\n",
    "    key = cv2.waitKey(1) & 0xFF\n",
    "\n",
    "    # if the `q` key was pressed, break from the loop\n",
    "    if key == ord(\"q\"):\n",
    "        break\n",
    "\n",
    "# do a bit of cleanup\n",
    "cv2.destroyAllWindows()\n",
    "cap.release()"
   ]
  }
 ],
 "metadata": {
  "kernelspec": {
   "display_name": "Python 3",
   "language": "python",
   "name": "python3"
  },
  "language_info": {
   "codemirror_mode": {
    "name": "ipython",
    "version": 3
   },
   "file_extension": ".py",
   "mimetype": "text/x-python",
   "name": "python",
   "nbconvert_exporter": "python",
   "pygments_lexer": "ipython3",
   "version": "3.7.6"
  }
 },
 "nbformat": 4,
 "nbformat_minor": 4
}
